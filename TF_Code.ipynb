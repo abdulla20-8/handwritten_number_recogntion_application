{
  "cells": [
    {
      "cell_type": "markdown",
      "metadata": {
        "id": "__k9NTUaW6Bx"
      },
      "source": [
        "## Overview:\n",
        "In this project, I will create a simple convolutional neural network [CNN] to classify handwriting digits using MNIST dataset using TensorFlow\n",
        "The main goal is to deploy this network to android app using TFLite\n",
        "\n",
        "\n",
        "## Requirements:\n",
        "- Python 3\n",
        "- Tensorflow v2 (I used v2.1.0)\n",
        "- Android Studio (I used the latest v3.6.3)\n",
        "\n",
        "## Find Me:\n",
        "| | |\n",
        "|-|-|\n",
        "|Mail:     |ibrahimomar357@gmail.com |\n",
        "|GitHub:   |https://github.com/IbrahimOmar91 |\n",
        "|LinkedIn: |https://www.linkedin.com/in/ibrahimomar91/ |\n",
        "|Facebook: |https://www.facebook.com/IbrahimM.Omar91 |"
      ]
    },
    {
      "cell_type": "markdown",
      "metadata": {
        "id": "Z6cAfbzSW6By"
      },
      "source": [
        "Imports"
      ]
    },
    {
      "cell_type": "code",
      "execution_count": 1,
      "metadata": {
        "id": "Z2iT5QYmW6Bz"
      },
      "outputs": [],
      "source": [
        "import numpy as np\n",
        "import tensorflow\n",
        "from tensorflow.keras.datasets import mnist\n",
        "\n",
        "from tensorflow.keras.models import Sequential\n",
        "from tensorflow.keras.layers import Conv2D, MaxPooling2D, Flatten, Dense, InputLayer, Reshape, Dropout\n",
        "from tensorflow.keras.utils import plot_model"
      ]
    },
    {
      "cell_type": "code",
      "source": [
        "from google.colab import drive\n",
        "\n",
        "drive.mount('/content/drive')\n",
        "\n",
        "# !cp /content/drive/MyDrive/abdulla/Character/anotation_28x28/Test.csv .\n",
        "# !cp /content/drive/MyDrive/abdulla/Character/anotation_28x28/Train.csv .\n",
        "\n",
        "\n",
        "!cp /content/drive/MyDrive/abdulla/Number/anotation_28x28/Test.csv .\n",
        "!cp /content/drive/MyDrive/abdulla/Number/anotation_28x28/Train.csv .\n",
        "\n",
        "!rm -rf sample_data"
      ],
      "metadata": {
        "colab": {
          "base_uri": "https://localhost:8080/"
        },
        "id": "_9qaTkHiXp0t",
        "outputId": "e5dbe0a5-c957-4faf-d2e0-adec161a7154"
      },
      "execution_count": 2,
      "outputs": [
        {
          "output_type": "stream",
          "name": "stdout",
          "text": [
            "Drive already mounted at /content/drive; to attempt to forcibly remount, call drive.mount(\"/content/drive\", force_remount=True).\n"
          ]
        }
      ]
    },
    {
      "cell_type": "code",
      "source": [
        "import pandas as pd\n",
        "\n",
        "train = pd.read_csv(\"Train.csv\")\n",
        "test = pd.read_csv(\"Test.csv\")"
      ],
      "metadata": {
        "id": "1wIDbyLAX6JW"
      },
      "execution_count": 3,
      "outputs": []
    },
    {
      "cell_type": "markdown",
      "metadata": {
        "id": "dAOHFYS8W6B0"
      },
      "source": [
        "Load MNIST Dataset"
      ]
    },
    {
      "cell_type": "code",
      "source": [
        "import seaborn as sns\n",
        "\n",
        "Y_train = train[\"label\"]\n",
        "\n",
        "# Drop 'label' column\n",
        "X_train = train.drop(labels = [\"label\"],axis = 1) \n",
        "\n",
        "# free some space\n",
        "del train \n",
        "\n",
        "g = sns.countplot(Y_train)\n",
        "\n",
        "Y_train.value_counts()"
      ],
      "metadata": {
        "colab": {
          "base_uri": "https://localhost:8080/",
          "height": 539
        },
        "id": "WLudSHDRYFDg",
        "outputId": "335fde10-ed3f-4397-d298-018b5a1cc916"
      },
      "execution_count": 4,
      "outputs": [
        {
          "output_type": "stream",
          "name": "stderr",
          "text": [
            "/usr/local/lib/python3.8/dist-packages/seaborn/_decorators.py:36: FutureWarning: Pass the following variable as a keyword arg: x. From version 0.12, the only valid positional argument will be `data`, and passing other arguments without an explicit keyword will result in an error or misinterpretation.\n",
            "  warnings.warn(\n"
          ]
        },
        {
          "output_type": "execute_result",
          "data": {
            "text/plain": [
              "0    5925\n",
              "1    5924\n",
              "2    5924\n",
              "3    5924\n",
              "4    5924\n",
              "5    5924\n",
              "6    5924\n",
              "7    5924\n",
              "8    5924\n",
              "9    5924\n",
              "Name: label, dtype: int64"
            ]
          },
          "metadata": {},
          "execution_count": 4
        },
        {
          "output_type": "display_data",
          "data": {
            "text/plain": [
              "<Figure size 432x288 with 1 Axes>"
            ],
            "image/png": "[encoded data removed]"
          },
          "metadata": {
            "needs_background": "light"
          }
        }
      ]
    },
    {
      "cell_type": "code",
      "source": [
        "# Reshape image in 3 dimensions (height = 28px, width = 28px , canal = 1)\n",
        "X_train = X_train.values.reshape(-1,28,28,1)\n",
        "test = test.values.reshape(-1,28,28,1)"
      ],
      "metadata": {
        "id": "wFLhMJLgZJIw"
      },
      "execution_count": 5,
      "outputs": []
    },
    {
      "cell_type": "code",
      "source": [
        "from sklearn.model_selection import train_test_split\n",
        "\n",
        "# Split the train and the validation set for the fitting\n",
        "x_train, x_test, y_train, y_test = train_test_split(X_train, Y_train)"
      ],
      "metadata": {
        "id": "qZ9G31NOYGL-"
      },
      "execution_count": 6,
      "outputs": []
    },
    {
      "cell_type": "code",
      "source": [
        "print(x_train.shape)\n",
        "print(y_train.shape)\n",
        "\n",
        "print(x_test.shape)\n",
        "print(y_test.shape)"
      ],
      "metadata": {
        "colab": {
          "base_uri": "https://localhost:8080/"
        },
        "id": "jFue2rJWZPHG",
        "outputId": "4369c290-d974-4d49-943d-81c3196385a7"
      },
      "execution_count": 7,
      "outputs": [
        {
          "output_type": "stream",
          "name": "stdout",
          "text": [
            "(44430, 28, 28, 1)\n",
            "(44430,)\n",
            "(14811, 28, 28, 1)\n",
            "(14811,)\n"
          ]
        }
      ]
    },
    {
      "cell_type": "code",
      "execution_count": 8,
      "metadata": {
        "id": "xv-F18VMW6B0"
      },
      "outputs": [],
      "source": [
        "# (x_train, y_train), (x_test, y_test) = mnist.load_data()"
      ]
    },
    {
      "cell_type": "markdown",
      "metadata": {
        "id": "4UTa5Z__W6B0"
      },
      "source": [
        "Normalize data images"
      ]
    },
    {
      "cell_type": "code",
      "execution_count": 9,
      "metadata": {
        "id": "0Eer0R_dW6B1"
      },
      "outputs": [],
      "source": [
        "x_train = (x_train/255.).astype(np.float32)\n",
        "x_test  = (x_test/255.).astype(np.float32)"
      ]
    },
    {
      "cell_type": "markdown",
      "metadata": {
        "id": "HS7EzXXkW6B1"
      },
      "source": [
        "Create TF Model"
      ]
    },
    {
      "cell_type": "code",
      "execution_count": 11,
      "metadata": {
        "id": "TYmzwbHhW6B1"
      },
      "outputs": [],
      "source": [
        "model = Sequential([\n",
        "    InputLayer(input_shape=(28, 28)),\n",
        "    Reshape(target_shape=(28, 28, 1)),\n",
        "    \n",
        "    Conv2D(64, (3,3), activation='relu'),\n",
        "    MaxPooling2D((2,2)),\n",
        "    Conv2D(128, (3,3), activation='relu'),\n",
        "    MaxPooling2D((2,2)),\n",
        "    Conv2D(256, (3,3), activation='relu'),\n",
        "    MaxPooling2D((2,2)),\n",
        "    \n",
        "    Flatten(),\n",
        "    \n",
        "    Dense(512),\n",
        "    Dense(64),\n",
        "    Dense(10, activation='softmax')\n",
        "])"
      ]
    },
    {
      "cell_type": "code",
      "execution_count": 12,
      "metadata": {
        "colab": {
          "base_uri": "https://localhost:8080/"
        },
        "id": "fUfOcD3tW6B2",
        "outputId": "bdaf79d1-89fe-47ad-ce73-7f13dc570978"
      },
      "outputs": [
        {
          "output_type": "stream",
          "name": "stdout",
          "text": [
            "Model: \"sequential_1\"\n",
            "_________________________________________________________________\n",
            " Layer (type)                Output Shape              Param #   \n",
            "=================================================================\n",
            " reshape_1 (Reshape)         (None, 28, 28, 1)         0         \n",
            "                                                                 \n",
            " conv2d_3 (Conv2D)           (None, 26, 26, 64)        640       \n",
            "                                                                 \n",
            " max_pooling2d_3 (MaxPooling  (None, 13, 13, 64)       0         \n",
            " 2D)                                                             \n",
            "                                                                 \n",
            " conv2d_4 (Conv2D)           (None, 11, 11, 128)       73856     \n",
            "                                                                 \n",
            " max_pooling2d_4 (MaxPooling  (None, 5, 5, 128)        0         \n",
            " 2D)                                                             \n",
            "                                                                 \n",
            " conv2d_5 (Conv2D)           (None, 3, 3, 256)         295168    \n",
            "                                                                 \n",
            " max_pooling2d_5 (MaxPooling  (None, 1, 1, 256)        0         \n",
            " 2D)                                                             \n",
            "                                                                 \n",
            " flatten_1 (Flatten)         (None, 256)               0         \n",
            "                                                                 \n",
            " dense_3 (Dense)             (None, 512)               131584    \n",
            "                                                                 \n",
            " dense_4 (Dense)             (None, 64)                32832     \n",
            "                                                                 \n",
            " dense_5 (Dense)             (None, 10)                650       \n",
            "                                                                 \n",
            "=================================================================\n",
            "Total params: 534,730\n",
            "Trainable params: 534,730\n",
            "Non-trainable params: 0\n",
            "_________________________________________________________________\n"
          ]
        }
      ],
      "source": [
        "model.summary()"
      ]
    },
    {
      "cell_type": "code",
      "execution_count": 13,
      "metadata": {
        "colab": {
          "base_uri": "https://localhost:8080/",
          "height": 1000
        },
        "id": "Eqts9dc_W6B2",
        "outputId": "f2d7303e-89e8-4139-8cd7-b0568a2797e6"
      },
      "outputs": [
        {
          "output_type": "execute_result",
          "data": {
            "image/png": "[encoded data removed]",
            "text/plain": [
              "<IPython.core.display.Image object>"
            ]
          },
          "metadata": {},
          "execution_count": 13
        }
      ],
      "source": [
        "plot_model(model, to_file='model.png')"
      ]
    },
    {
      "cell_type": "code",
      "execution_count": 14,
      "metadata": {
        "id": "AHeZfdA-W6B3"
      },
      "outputs": [],
      "source": [
        "model.compile(optimizer='adam',\n",
        "              loss='sparse_categorical_crossentropy',\n",
        "              metrics=['accuracy'])"
      ]
    },
    {
      "cell_type": "code",
      "execution_count": 15,
      "metadata": {
        "colab": {
          "base_uri": "https://localhost:8080/"
        },
        "id": "D4esw1YdW6B3",
        "outputId": "a2301fe3-c55e-4a45-99bb-f479d5410cda"
      },
      "outputs": [
        {
          "output_type": "stream",
          "name": "stdout",
          "text": [
            "Epoch 1/30\n",
            "87/87 [==============================] - 8s 36ms/step - loss: 0.6414 - accuracy: 0.7955 - val_loss: 0.2274 - val_accuracy: 0.9290\n",
            "Epoch 2/30\n",
            "87/87 [==============================] - 2s 24ms/step - loss: 0.1580 - accuracy: 0.9528 - val_loss: 0.1312 - val_accuracy: 0.9586\n",
            "Epoch 3/30\n",
            "87/87 [==============================] - 2s 23ms/step - loss: 0.0990 - accuracy: 0.9707 - val_loss: 0.1287 - val_accuracy: 0.9607\n",
            "Epoch 4/30\n",
            "87/87 [==============================] - 2s 22ms/step - loss: 0.0774 - accuracy: 0.9766 - val_loss: 0.0839 - val_accuracy: 0.9753\n",
            "Epoch 5/30\n",
            "87/87 [==============================] - 2s 22ms/step - loss: 0.0571 - accuracy: 0.9826 - val_loss: 0.0721 - val_accuracy: 0.9788\n",
            "Epoch 6/30\n",
            "87/87 [==============================] - 2s 24ms/step - loss: 0.0494 - accuracy: 0.9844 - val_loss: 0.0735 - val_accuracy: 0.9787\n",
            "Epoch 7/30\n",
            "87/87 [==============================] - 2s 24ms/step - loss: 0.0490 - accuracy: 0.9851 - val_loss: 0.0674 - val_accuracy: 0.9808\n",
            "Epoch 8/30\n",
            "87/87 [==============================] - 2s 25ms/step - loss: 0.0441 - accuracy: 0.9861 - val_loss: 0.0830 - val_accuracy: 0.9747\n",
            "Epoch 9/30\n",
            "87/87 [==============================] - 2s 22ms/step - loss: 0.0349 - accuracy: 0.9891 - val_loss: 0.0689 - val_accuracy: 0.9797\n",
            "Epoch 10/30\n",
            "87/87 [==============================] - 2s 22ms/step - loss: 0.0279 - accuracy: 0.9912 - val_loss: 0.0622 - val_accuracy: 0.9827\n",
            "Epoch 11/30\n",
            "87/87 [==============================] - 2s 24ms/step - loss: 0.0230 - accuracy: 0.9926 - val_loss: 0.0626 - val_accuracy: 0.9828\n",
            "Epoch 12/30\n",
            "87/87 [==============================] - 2s 24ms/step - loss: 0.0236 - accuracy: 0.9919 - val_loss: 0.0671 - val_accuracy: 0.9820\n",
            "Epoch 13/30\n",
            "87/87 [==============================] - 2s 23ms/step - loss: 0.0182 - accuracy: 0.9944 - val_loss: 0.0630 - val_accuracy: 0.9843\n",
            "Epoch 14/30\n",
            "87/87 [==============================] - 2s 25ms/step - loss: 0.0269 - accuracy: 0.9913 - val_loss: 0.0778 - val_accuracy: 0.9786\n",
            "Epoch 15/30\n",
            "87/87 [==============================] - 2s 23ms/step - loss: 0.0218 - accuracy: 0.9936 - val_loss: 0.0627 - val_accuracy: 0.9831\n",
            "Epoch 16/30\n",
            "87/87 [==============================] - 2s 22ms/step - loss: 0.0132 - accuracy: 0.9958 - val_loss: 0.0870 - val_accuracy: 0.9799\n",
            "Epoch 17/30\n",
            "87/87 [==============================] - 2s 23ms/step - loss: 0.0161 - accuracy: 0.9946 - val_loss: 0.0647 - val_accuracy: 0.9854\n",
            "Epoch 18/30\n",
            "87/87 [==============================] - 2s 23ms/step - loss: 0.0118 - accuracy: 0.9961 - val_loss: 0.0830 - val_accuracy: 0.9814\n",
            "Epoch 19/30\n",
            "87/87 [==============================] - 2s 24ms/step - loss: 0.0152 - accuracy: 0.9951 - val_loss: 0.0653 - val_accuracy: 0.9837\n",
            "Epoch 20/30\n",
            "87/87 [==============================] - 2s 24ms/step - loss: 0.0212 - accuracy: 0.9935 - val_loss: 0.0635 - val_accuracy: 0.9852\n",
            "Epoch 21/30\n",
            "87/87 [==============================] - 2s 25ms/step - loss: 0.0133 - accuracy: 0.9959 - val_loss: 0.0623 - val_accuracy: 0.9847\n",
            "Epoch 22/30\n",
            "87/87 [==============================] - 2s 23ms/step - loss: 0.0096 - accuracy: 0.9967 - val_loss: 0.0772 - val_accuracy: 0.9839\n",
            "Epoch 23/30\n",
            "87/87 [==============================] - 2s 24ms/step - loss: 0.0083 - accuracy: 0.9975 - val_loss: 0.0739 - val_accuracy: 0.9841\n",
            "Epoch 24/30\n",
            "87/87 [==============================] - 2s 24ms/step - loss: 0.0112 - accuracy: 0.9964 - val_loss: 0.0713 - val_accuracy: 0.9850\n",
            "Epoch 25/30\n",
            "87/87 [==============================] - 2s 22ms/step - loss: 0.0080 - accuracy: 0.9975 - val_loss: 0.0750 - val_accuracy: 0.9844\n",
            "Epoch 26/30\n",
            "87/87 [==============================] - 2s 24ms/step - loss: 0.0141 - accuracy: 0.9957 - val_loss: 0.0904 - val_accuracy: 0.9811\n",
            "Epoch 27/30\n",
            "87/87 [==============================] - 2s 25ms/step - loss: 0.0122 - accuracy: 0.9960 - val_loss: 0.0743 - val_accuracy: 0.9848\n",
            "Epoch 28/30\n",
            "87/87 [==============================] - 2s 23ms/step - loss: 0.0157 - accuracy: 0.9948 - val_loss: 0.0796 - val_accuracy: 0.9834\n",
            "Epoch 29/30\n",
            "87/87 [==============================] - 2s 22ms/step - loss: 0.0095 - accuracy: 0.9972 - val_loss: 0.0830 - val_accuracy: 0.9845\n",
            "Epoch 30/30\n",
            "87/87 [==============================] - 2s 24ms/step - loss: 0.0116 - accuracy: 0.9963 - val_loss: 0.0802 - val_accuracy: 0.9839\n"
          ]
        }
      ],
      "source": [
        "hist = model.fit(\n",
        "    x_train,\n",
        "    y_train,\n",
        "    epochs = 30,\n",
        "    batch_size = 512,\n",
        "    validation_data=(x_test, y_test)\n",
        ")"
      ]
    },
    {
      "cell_type": "markdown",
      "metadata": {
        "id": "FOzXtT5bW6B3"
      },
      "source": [
        "### Visualise Training Process"
      ]
    },
    {
      "cell_type": "code",
      "execution_count": 16,
      "metadata": {
        "colab": {
          "base_uri": "https://localhost:8080/",
          "height": 297
        },
        "id": "OAtuIC4FW6B4",
        "outputId": "7a5ae4ed-a39a-47cf-b8fd-db36e2ce438b"
      },
      "outputs": [
        {
          "output_type": "execute_result",
          "data": {
            "text/plain": [
              "<matplotlib.legend.Legend at 0x7fc8c6ac8a00>"
            ]
          },
          "metadata": {},
          "execution_count": 16
        },
        {
          "output_type": "display_data",
          "data": {
            "text/plain": [
              "<Figure size 432x288 with 1 Axes>"
            ],
            "image/png": "[encoded data removed]"
          },
          "metadata": {
            "needs_background": "light"
          }
        }
      ],
      "source": [
        "import matplotlib.pyplot as plt\n",
        "\n",
        "plt.xlabel('Epoch Number')\n",
        "plt.ylabel('Accuracy')\n",
        "plt.plot(hist.history['accuracy'])\n",
        "plt.plot(hist.history['val_accuracy'])\n",
        "plt.legend(('Train','Validation'), loc='lower right')"
      ]
    },
    {
      "cell_type": "markdown",
      "metadata": {
        "id": "lZHp6wnaW6B4"
      },
      "source": [
        "### Evaluate Model"
      ]
    },
    {
      "cell_type": "code",
      "execution_count": 17,
      "metadata": {
        "colab": {
          "base_uri": "https://localhost:8080/"
        },
        "id": "ECnfFz4wW6B4",
        "outputId": "0e4c4743-6c6a-47a6-db51-862f5d375099"
      },
      "outputs": [
        {
          "output_type": "stream",
          "name": "stdout",
          "text": [
            "463/463 [==============================] - 2s 3ms/step - loss: 0.0802 - accuracy: 0.9839\n",
            "Accuracy: 98.39%\n"
          ]
        }
      ],
      "source": [
        "out = model.evaluate(x_test, y_test)\n",
        "print (\"Accuracy: {:0.2f}%\".format(out[1]*100))"
      ]
    },
    {
      "cell_type": "markdown",
      "metadata": {
        "id": "1cE31-Y9W6B5"
      },
      "source": [
        "### Convert Model to TFLite and Save"
      ]
    },
    {
      "cell_type": "code",
      "execution_count": 21,
      "metadata": {
        "colab": {
          "base_uri": "https://localhost:8080/"
        },
        "id": "UMIFVmOiW6B6",
        "outputId": "1969d8e2-02db-42a3-c5fb-def1798f9d75"
      },
      "outputs": [
        {
          "output_type": "stream",
          "name": "stderr",
          "text": [
            "WARNING:absl:Found untraced functions such as _jit_compiled_convolution_op, _jit_compiled_convolution_op, _jit_compiled_convolution_op while saving (showing 3 of 3). These functions will not be directly callable after loading.\n"
          ]
        }
      ],
      "source": [
        "converter = tensorflow.lite.TFLiteConverter.from_keras_model(model)\n",
        "tflite_model = converter.convert()"
      ]
    },
    {
      "cell_type": "code",
      "execution_count": 22,
      "metadata": {
        "colab": {
          "base_uri": "https://localhost:8080/"
        },
        "id": "5gakj2_wW6B6",
        "outputId": "01593125-3391-4d1a-9fce-3fb068ef458b"
      },
      "outputs": [
        {
          "output_type": "execute_result",
          "data": {
            "text/plain": [
              "2144204"
            ]
          },
          "metadata": {},
          "execution_count": 22
        }
      ],
      "source": [
        "tflite_model_file = \"mnist_model.tflite\"\n",
        "open(tflite_model_file, 'wb').write(tflite_model)"
      ]
    }
  ],
  "metadata": {
    "kernelspec": {
      "display_name": "Python 3",
      "language": "python",
      "name": "python3"
    },
    "language_info": {
      "codemirror_mode": {
        "name": "ipython",
        "version": 3
      },
      "file_extension": ".py",
      "mimetype": "text/x-python",
      "name": "python",
      "nbconvert_exporter": "python",
      "pygments_lexer": "ipython3",
      "version": "3.7.7"
    },
    "colab": {
      "provenance": []
    },
    "accelerator": "GPU",
    "gpuClass": "standard"
  },
  "nbformat": 4,
  "nbformat_minor": 0
}